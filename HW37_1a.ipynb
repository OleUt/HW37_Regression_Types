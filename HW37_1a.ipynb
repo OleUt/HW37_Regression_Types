{
 "cells": [
  {
   "cell_type": "code",
   "execution_count": 1,
   "id": "7736d0e1",
   "metadata": {},
   "outputs": [
    {
     "name": "stdout",
     "output_type": "stream",
     "text": [
      "            Position  Level   Salary\n",
      "0   Business Analyst      1    45000\n",
      "1  Junior Consultant      2    50000\n",
      "2  Senior Consultant      3    60000\n",
      "3            Manager      4    80000\n",
      "4    Country Manager      5   110000\n",
      "5     Region Manager      6   150000\n",
      "6            Partner      7   200000\n",
      "7     Senior Partner      8   300000\n",
      "8            C-level      9   500000\n",
      "9                CEO     10  1000000\n"
     ]
    }
   ],
   "source": [
    "# POLYNOMIAL REGRESSION with GridSearchCV\n",
    "\n",
    "%matplotlib inline\n",
    "import numpy as np\n",
    "import pandas as pd\n",
    "import matplotlib.pyplot as plt\n",
    "\n",
    "data = pd.read_csv('Position_Salaries.csv')\n",
    "print(data)\n",
    "\n",
    "X = data['Level']\n",
    "y = data['Salary']"
   ]
  },
  {
   "cell_type": "code",
   "execution_count": 2,
   "id": "88bcd2d9",
   "metadata": {},
   "outputs": [
    {
     "name": "stdout",
     "output_type": "stream",
     "text": [
      "   mean_test_score  std_test_score                             params\n",
      "0    -5.521446e+10    5.736091e+10  {'polynomialfeatures__degree': 2}\n",
      "1    -4.776566e+10    5.608805e+10  {'polynomialfeatures__degree': 3}\n",
      "2    -3.177613e+10    4.244568e+10  {'polynomialfeatures__degree': 4}\n",
      "3    -1.063338e+10    2.060015e+10  {'polynomialfeatures__degree': 5}\n",
      "4    -4.601290e+10    7.282280e+10  {'polynomialfeatures__degree': 6}\n",
      "5    -7.937499e+11    1.391738e+12  {'polynomialfeatures__degree': 7}\n",
      "-10633381898.652973\n",
      "{'polynomialfeatures__degree': 5}\n",
      "Pipeline(steps=[('standardscaler', StandardScaler()),\n",
      "                ('polynomialfeatures', PolynomialFeatures(degree=5)),\n",
      "                ('linearregression', LinearRegression())])\n"
     ]
    }
   ],
   "source": [
    "# Best parameters with GridSearchCV\n",
    "\n",
    "from sklearn.preprocessing import PolynomialFeatures\n",
    "from sklearn.linear_model import LinearRegression\n",
    "from sklearn.model_selection import GridSearchCV\n",
    "from sklearn.preprocessing import StandardScaler\n",
    "from sklearn.pipeline import make_pipeline\n",
    "\n",
    "X_array = np.array(X).reshape(-1, 1)\n",
    "y_array = np.array(y)\n",
    "\n",
    "polynomial_model = make_pipeline(StandardScaler(), PolynomialFeatures(), LinearRegression())\n",
    "params = {'polynomialfeatures__degree': np.arange(2, 8)}\n",
    "grid = GridSearchCV(polynomial_model, params, cv=5, scoring='neg_mean_squared_error') \n",
    "grid.fit(X_array, y_array)\n",
    "\n",
    "print(pd.DataFrame(grid.cv_results_)[['mean_test_score', 'std_test_score', 'params']])\n",
    "\n",
    "print(grid.best_score_)\n",
    "print(grid.best_params_)\n",
    "print(grid.best_estimator_)"
   ]
  },
  {
   "cell_type": "code",
   "execution_count": 3,
   "id": "c3e05bbe",
   "metadata": {},
   "outputs": [
    {
     "data": {
      "image/png": "[encoded data removed]",
      "text/plain": [
       "<Figure size 640x480 with 1 Axes>"
      ]
     },
     "metadata": {},
     "output_type": "display_data"
    },
    {
     "name": "stdout",
     "output_type": "stream",
     "text": [
      "Score: 0.9997969027099755\n",
      "Coefficients: [[ 0.00000000e+00  1.60731002e+05 -1.00378788e+05  2.81649184e+04\n",
      "  -3.44638695e+03  1.57692308e+02]]\n",
      "Intercept: [-41333.33332987]\n"
     ]
    }
   ],
   "source": [
    "# Polynomial Regression Model shaped by Best parameters\n",
    "\n",
    "import operator\n",
    "\n",
    "X_array = np.array(X)   \n",
    "y_array = np.array(y)\n",
    "x = X_array[:, np.newaxis]\n",
    "y = y_array[:, np.newaxis]\n",
    "\n",
    "polynomial_features= PolynomialFeatures(degree = 5)\n",
    "x_poly = polynomial_features.fit_transform(x)\n",
    "polynomial_model = LinearRegression()\n",
    "polynomial_model.fit(x_poly, y)\n",
    "\n",
    "y_poly_pred = polynomial_model.predict(x_poly)\n",
    "\n",
    "# sort the values of x before line plot\n",
    "sort_axis = operator.itemgetter(0)\n",
    "sorted_zip = sorted(zip(x, y_poly_pred), key=sort_axis)\n",
    "x, y_poly_pred = zip(*sorted_zip)\n",
    "\n",
    "plt.scatter(x, y, s=10)\n",
    "plt.plot(x, y_poly_pred, color='red')\n",
    "plt.xlabel('Level')\n",
    "plt.ylabel('Salary')\n",
    "plt.show()\n",
    "\n",
    "mod_score = polynomial_model.score(x_poly, y)\n",
    "print('Score:', mod_score)\n",
    "print('Coefficients:', polynomial_model.coef_)\n",
    "print('Intercept:', polynomial_model.intercept_)\n"
   ]
  },
  {
   "cell_type": "code",
   "execution_count": null,
   "id": "62eee490",
   "metadata": {},
   "outputs": [],
   "source": []
  }
 ],
 "metadata": {
  "kernelspec": {
   "display_name": "Python 3 (ipykernel)",
   "language": "python",
   "name": "python3"
  },
  "language_info": {
   "codemirror_mode": {
    "name": "ipython",
    "version": 3
   },
   "file_extension": ".py",
   "mimetype": "text/x-python",
   "name": "python",
   "nbconvert_exporter": "python",
   "pygments_lexer": "ipython3",
   "version": "3.11.1"
  }
 },
 "nbformat": 4,
 "nbformat_minor": 5
}
